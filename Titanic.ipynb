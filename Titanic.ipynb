{
  "nbformat": 4,
  "nbformat_minor": 0,
  "metadata": {
    "colab": {
      "name": "Titanic.ipynb",
      "provenance": [],
      "collapsed_sections": [],
      "authorship_tag": "ABX9TyNVXFUk5UbPNVJynLb3Ftex",
      "include_colab_link": true
    },
    "kernelspec": {
      "display_name": "Python 3",
      "name": "python3"
    }
  },
  "cells": [
    {
      "cell_type": "markdown",
      "metadata": {
        "id": "view-in-github",
        "colab_type": "text"
      },
      "source": [
        "<a href=\"https://colab.research.google.com/github/AlexanderAvocone/Studium/blob/master/Titanic.ipynb\" target=\"_parent\"><img src=\"https://colab.research.google.com/assets/colab-badge.svg\" alt=\"Open In Colab\"/></a>"
      ]
    },
    {
      "cell_type": "markdown",
      "metadata": {
        "id": "XTg7htT4RRjH"
      },
      "source": [
        "##**Daten einlesen**\n",
        "Ziel der Übung ist die Datenanalyse von der Titanic-challenge mit verschiedenen ML-Modellen."
      ]
    },
    {
      "cell_type": "code",
      "metadata": {
        "id": "q-kT33KXK46F"
      },
      "source": [
        "import pandas as pd\n",
        "import numpy as np\n",
        "import matplotlib.pyplot as plt\n",
        "import sklearn\n",
        "import seaborn as sns"
      ],
      "execution_count": 1,
      "outputs": []
    },
    {
      "cell_type": "markdown",
      "metadata": {
        "id": "WxaVLvG5GKPh"
      },
      "source": [
        "# Als Erstes müssen die Daten geladen und grob überflogen werden um sich einen Eindruck über die Einträge zu verschaffen"
      ]
    },
    {
      "cell_type": "code",
      "metadata": {
        "colab": {
          "base_uri": "https://localhost:8080/",
          "height": 237
        },
        "id": "CX5qDD4VN57i",
        "outputId": "e21cc151-6ac3-48c6-b483-effc19ac46d5"
      },
      "source": [
        "#Daten laden\n",
        "train = pd.read_csv(\"train.csv\")\n",
        "\n",
        "\n",
        "#Overview der Daten\n",
        "train.head()\n"
      ],
      "execution_count": 2,
      "outputs": [
        {
          "output_type": "execute_result",
          "data": {
            "text/html": [
              "<div>\n",
              "<style scoped>\n",
              "    .dataframe tbody tr th:only-of-type {\n",
              "        vertical-align: middle;\n",
              "    }\n",
              "\n",
              "    .dataframe tbody tr th {\n",
              "        vertical-align: top;\n",
              "    }\n",
              "\n",
              "    .dataframe thead th {\n",
              "        text-align: right;\n",
              "    }\n",
              "</style>\n",
              "<table border=\"1\" class=\"dataframe\">\n",
              "  <thead>\n",
              "    <tr style=\"text-align: right;\">\n",
              "      <th></th>\n",
              "      <th>PassengerId</th>\n",
              "      <th>Survived</th>\n",
              "      <th>Pclass</th>\n",
              "      <th>Name</th>\n",
              "      <th>Sex</th>\n",
              "      <th>Age</th>\n",
              "      <th>SibSp</th>\n",
              "      <th>Parch</th>\n",
              "      <th>Ticket</th>\n",
              "      <th>Fare</th>\n",
              "      <th>Cabin</th>\n",
              "      <th>Embarked</th>\n",
              "    </tr>\n",
              "  </thead>\n",
              "  <tbody>\n",
              "    <tr>\n",
              "      <th>0</th>\n",
              "      <td>1</td>\n",
              "      <td>0</td>\n",
              "      <td>3</td>\n",
              "      <td>Braund, Mr. Owen Harris</td>\n",
              "      <td>male</td>\n",
              "      <td>22.0</td>\n",
              "      <td>1</td>\n",
              "      <td>0</td>\n",
              "      <td>A/5 21171</td>\n",
              "      <td>7.2500</td>\n",
              "      <td>NaN</td>\n",
              "      <td>S</td>\n",
              "    </tr>\n",
              "    <tr>\n",
              "      <th>1</th>\n",
              "      <td>2</td>\n",
              "      <td>1</td>\n",
              "      <td>1</td>\n",
              "      <td>Cumings, Mrs. John Bradley (Florence Briggs Th...</td>\n",
              "      <td>female</td>\n",
              "      <td>38.0</td>\n",
              "      <td>1</td>\n",
              "      <td>0</td>\n",
              "      <td>PC 17599</td>\n",
              "      <td>71.2833</td>\n",
              "      <td>C85</td>\n",
              "      <td>C</td>\n",
              "    </tr>\n",
              "    <tr>\n",
              "      <th>2</th>\n",
              "      <td>3</td>\n",
              "      <td>1</td>\n",
              "      <td>3</td>\n",
              "      <td>Heikkinen, Miss. Laina</td>\n",
              "      <td>female</td>\n",
              "      <td>26.0</td>\n",
              "      <td>0</td>\n",
              "      <td>0</td>\n",
              "      <td>STON/O2. 3101282</td>\n",
              "      <td>7.9250</td>\n",
              "      <td>NaN</td>\n",
              "      <td>S</td>\n",
              "    </tr>\n",
              "    <tr>\n",
              "      <th>3</th>\n",
              "      <td>4</td>\n",
              "      <td>1</td>\n",
              "      <td>1</td>\n",
              "      <td>Futrelle, Mrs. Jacques Heath (Lily May Peel)</td>\n",
              "      <td>female</td>\n",
              "      <td>35.0</td>\n",
              "      <td>1</td>\n",
              "      <td>0</td>\n",
              "      <td>113803</td>\n",
              "      <td>53.1000</td>\n",
              "      <td>C123</td>\n",
              "      <td>S</td>\n",
              "    </tr>\n",
              "    <tr>\n",
              "      <th>4</th>\n",
              "      <td>5</td>\n",
              "      <td>0</td>\n",
              "      <td>3</td>\n",
              "      <td>Allen, Mr. William Henry</td>\n",
              "      <td>male</td>\n",
              "      <td>35.0</td>\n",
              "      <td>0</td>\n",
              "      <td>0</td>\n",
              "      <td>373450</td>\n",
              "      <td>8.0500</td>\n",
              "      <td>NaN</td>\n",
              "      <td>S</td>\n",
              "    </tr>\n",
              "  </tbody>\n",
              "</table>\n",
              "</div>"
            ],
            "text/plain": [
              "   PassengerId  Survived  Pclass  ...     Fare Cabin  Embarked\n",
              "0            1         0       3  ...   7.2500   NaN         S\n",
              "1            2         1       1  ...  71.2833   C85         C\n",
              "2            3         1       3  ...   7.9250   NaN         S\n",
              "3            4         1       1  ...  53.1000  C123         S\n",
              "4            5         0       3  ...   8.0500   NaN         S\n",
              "\n",
              "[5 rows x 12 columns]"
            ]
          },
          "metadata": {},
          "execution_count": 2
        }
      ]
    },
    {
      "cell_type": "markdown",
      "metadata": {
        "id": "vsB2Ki7pIcS3"
      },
      "source": [
        "##**Grobe Datenübersicht**\n"
      ]
    },
    {
      "cell_type": "code",
      "metadata": {
        "colab": {
          "base_uri": "https://localhost:8080/"
        },
        "id": "AvGvlRs_TRWV",
        "outputId": "9c2dbc24-bc8b-4dfc-c9bd-afa9b53d1ccf"
      },
      "source": [
        "#Datentyp der Columns mit Angabe der NaN-Values\n",
        "train.info()"
      ],
      "execution_count": 3,
      "outputs": [
        {
          "output_type": "stream",
          "name": "stdout",
          "text": [
            "<class 'pandas.core.frame.DataFrame'>\n",
            "RangeIndex: 891 entries, 0 to 890\n",
            "Data columns (total 12 columns):\n",
            " #   Column       Non-Null Count  Dtype  \n",
            "---  ------       --------------  -----  \n",
            " 0   PassengerId  891 non-null    int64  \n",
            " 1   Survived     891 non-null    int64  \n",
            " 2   Pclass       891 non-null    int64  \n",
            " 3   Name         891 non-null    object \n",
            " 4   Sex          891 non-null    object \n",
            " 5   Age          714 non-null    float64\n",
            " 6   SibSp        891 non-null    int64  \n",
            " 7   Parch        891 non-null    int64  \n",
            " 8   Ticket       891 non-null    object \n",
            " 9   Fare         891 non-null    float64\n",
            " 10  Cabin        204 non-null    object \n",
            " 11  Embarked     889 non-null    object \n",
            "dtypes: float64(2), int64(5), object(5)\n",
            "memory usage: 83.7+ KB\n"
          ]
        }
      ]
    },
    {
      "cell_type": "markdown",
      "metadata": {
        "id": "oqzh_8mQUPKl"
      },
      "source": [
        "\n",
        "\n",
        "Wie zu sehen sind die Cabin-Einträge zu mehr als 3/4 nicht vorhanden. \n",
        "Hier wäre es ratsam die Spalte einfach komplett zu löschen, da sie fürs training unbrauchbar ist.\n",
        "\n",
        "Auch ist die Ticket- und PassengerId-Spalte unbrauchbar.\n"
      ]
    },
    {
      "cell_type": "code",
      "metadata": {
        "colab": {
          "base_uri": "https://localhost:8080/"
        },
        "id": "dkJBQ-AHT7_e",
        "outputId": "2e6fbacf-3740-4555-c28c-6b73f62af8d4"
      },
      "source": [
        "train[\"Ticket\"].sample(20)\n"
      ],
      "execution_count": 4,
      "outputs": [
        {
          "output_type": "execute_result",
          "data": {
            "text/plain": [
              "474                7553\n",
              "208              367231\n",
              "555              113807\n",
              "236               26707\n",
              "404              315096\n",
              "793            PC 17600\n",
              "504              110152\n",
              "684               29750\n",
              "341               19950\n",
              "491    SOTON/OQ 3101317\n",
              "575              358585\n",
              "548              363291\n",
              "639              376564\n",
              "321              349219\n",
              "380            PC 17757\n",
              "779               24160\n",
              "687              349228\n",
              "807              347087\n",
              "494           A/4 45380\n",
              "350                7267\n",
              "Name: Ticket, dtype: object"
            ]
          },
          "metadata": {},
          "execution_count": 4
        }
      ]
    },
    {
      "cell_type": "code",
      "metadata": {
        "colab": {
          "base_uri": "https://localhost:8080/"
        },
        "id": "0lFZ0GbFU-nZ",
        "outputId": "0e54a7db-d3be-4ae6-848b-673c310c0d8e"
      },
      "source": [
        "train.drop([\"Cabin\",\"Ticket\"],axis=1, inplace = True)\n",
        "train.columns"
      ],
      "execution_count": 5,
      "outputs": [
        {
          "output_type": "execute_result",
          "data": {
            "text/plain": [
              "Index(['PassengerId', 'Survived', 'Pclass', 'Name', 'Sex', 'Age', 'SibSp',\n",
              "       'Parch', 'Fare', 'Embarked'],\n",
              "      dtype='object')"
            ]
          },
          "metadata": {},
          "execution_count": 5
        }
      ]
    },
    {
      "cell_type": "markdown",
      "metadata": {
        "id": "XDqqqzWELDNd"
      },
      "source": [
        "Mittels der describe()-Funktion erhält man einen groben Überblick über die Daten, wie zum Beispiel die Überlebensrate und die Altersspanne.\n"
      ]
    },
    {
      "cell_type": "code",
      "metadata": {
        "colab": {
          "base_uri": "https://localhost:8080/",
          "height": 295
        },
        "id": "WBDxgqjDxJrV",
        "outputId": "48b5d1f5-41af-4798-883b-89d1bb60edfd"
      },
      "source": [
        "train.describe()\n"
      ],
      "execution_count": 6,
      "outputs": [
        {
          "output_type": "execute_result",
          "data": {
            "text/html": [
              "<div>\n",
              "<style scoped>\n",
              "    .dataframe tbody tr th:only-of-type {\n",
              "        vertical-align: middle;\n",
              "    }\n",
              "\n",
              "    .dataframe tbody tr th {\n",
              "        vertical-align: top;\n",
              "    }\n",
              "\n",
              "    .dataframe thead th {\n",
              "        text-align: right;\n",
              "    }\n",
              "</style>\n",
              "<table border=\"1\" class=\"dataframe\">\n",
              "  <thead>\n",
              "    <tr style=\"text-align: right;\">\n",
              "      <th></th>\n",
              "      <th>PassengerId</th>\n",
              "      <th>Survived</th>\n",
              "      <th>Pclass</th>\n",
              "      <th>Age</th>\n",
              "      <th>SibSp</th>\n",
              "      <th>Parch</th>\n",
              "      <th>Fare</th>\n",
              "    </tr>\n",
              "  </thead>\n",
              "  <tbody>\n",
              "    <tr>\n",
              "      <th>count</th>\n",
              "      <td>891.000000</td>\n",
              "      <td>891.000000</td>\n",
              "      <td>891.000000</td>\n",
              "      <td>714.000000</td>\n",
              "      <td>891.000000</td>\n",
              "      <td>891.000000</td>\n",
              "      <td>891.000000</td>\n",
              "    </tr>\n",
              "    <tr>\n",
              "      <th>mean</th>\n",
              "      <td>446.000000</td>\n",
              "      <td>0.383838</td>\n",
              "      <td>2.308642</td>\n",
              "      <td>29.699118</td>\n",
              "      <td>0.523008</td>\n",
              "      <td>0.381594</td>\n",
              "      <td>32.204208</td>\n",
              "    </tr>\n",
              "    <tr>\n",
              "      <th>std</th>\n",
              "      <td>257.353842</td>\n",
              "      <td>0.486592</td>\n",
              "      <td>0.836071</td>\n",
              "      <td>14.526497</td>\n",
              "      <td>1.102743</td>\n",
              "      <td>0.806057</td>\n",
              "      <td>49.693429</td>\n",
              "    </tr>\n",
              "    <tr>\n",
              "      <th>min</th>\n",
              "      <td>1.000000</td>\n",
              "      <td>0.000000</td>\n",
              "      <td>1.000000</td>\n",
              "      <td>0.420000</td>\n",
              "      <td>0.000000</td>\n",
              "      <td>0.000000</td>\n",
              "      <td>0.000000</td>\n",
              "    </tr>\n",
              "    <tr>\n",
              "      <th>25%</th>\n",
              "      <td>223.500000</td>\n",
              "      <td>0.000000</td>\n",
              "      <td>2.000000</td>\n",
              "      <td>20.125000</td>\n",
              "      <td>0.000000</td>\n",
              "      <td>0.000000</td>\n",
              "      <td>7.910400</td>\n",
              "    </tr>\n",
              "    <tr>\n",
              "      <th>50%</th>\n",
              "      <td>446.000000</td>\n",
              "      <td>0.000000</td>\n",
              "      <td>3.000000</td>\n",
              "      <td>28.000000</td>\n",
              "      <td>0.000000</td>\n",
              "      <td>0.000000</td>\n",
              "      <td>14.454200</td>\n",
              "    </tr>\n",
              "    <tr>\n",
              "      <th>75%</th>\n",
              "      <td>668.500000</td>\n",
              "      <td>1.000000</td>\n",
              "      <td>3.000000</td>\n",
              "      <td>38.000000</td>\n",
              "      <td>1.000000</td>\n",
              "      <td>0.000000</td>\n",
              "      <td>31.000000</td>\n",
              "    </tr>\n",
              "    <tr>\n",
              "      <th>max</th>\n",
              "      <td>891.000000</td>\n",
              "      <td>1.000000</td>\n",
              "      <td>3.000000</td>\n",
              "      <td>80.000000</td>\n",
              "      <td>8.000000</td>\n",
              "      <td>6.000000</td>\n",
              "      <td>512.329200</td>\n",
              "    </tr>\n",
              "  </tbody>\n",
              "</table>\n",
              "</div>"
            ],
            "text/plain": [
              "       PassengerId    Survived      Pclass  ...       SibSp       Parch        Fare\n",
              "count   891.000000  891.000000  891.000000  ...  891.000000  891.000000  891.000000\n",
              "mean    446.000000    0.383838    2.308642  ...    0.523008    0.381594   32.204208\n",
              "std     257.353842    0.486592    0.836071  ...    1.102743    0.806057   49.693429\n",
              "min       1.000000    0.000000    1.000000  ...    0.000000    0.000000    0.000000\n",
              "25%     223.500000    0.000000    2.000000  ...    0.000000    0.000000    7.910400\n",
              "50%     446.000000    0.000000    3.000000  ...    0.000000    0.000000   14.454200\n",
              "75%     668.500000    1.000000    3.000000  ...    1.000000    0.000000   31.000000\n",
              "max     891.000000    1.000000    3.000000  ...    8.000000    6.000000  512.329200\n",
              "\n",
              "[8 rows x 7 columns]"
            ]
          },
          "metadata": {},
          "execution_count": 6
        }
      ]
    },
    {
      "cell_type": "markdown",
      "metadata": {
        "id": "7FYa_N2wLCwJ"
      },
      "source": [
        "##**Visualisierung**\n",
        "Um ein besseres Gespür für die Daten zu erhalten ist die Visualisierung ein guter Anfang.\n",
        "Vorallem die Anzahl der Überlebenden sortiert nach Geschlecht und Alter.\n"
      ]
    },
    {
      "cell_type": "code",
      "metadata": {
        "colab": {
          "base_uri": "https://localhost:8080/",
          "height": 575
        },
        "id": "SAJ0XAtRUFnq",
        "outputId": "90aebab4-441c-4283-c153-f5395340a4ae"
      },
      "source": [
        "f,ax = plt.subplots(2,3,figsize=(20,10))\n",
        "\n",
        "\n",
        "#Survived Sex\n",
        "plt.subplot(2,3,1)\n",
        "sns.countplot(x=\"Sex\", data = train, hue = \"Survived\")\n",
        "plt.title(\"Survival by Sex\")\n",
        "plt.grid(axis =\"y\")\n",
        "\n",
        "#Survived Class\n",
        "plt.subplot(2,3,2)\n",
        "sns.countplot(x=\"Pclass\", data = train, hue = \"Survived\")\n",
        "plt.title(\"Survival by Class\")\n",
        "plt.grid(axis =\"y\")\n",
        "\n",
        "#Survived Embarked\n",
        "plt.subplot(2,3,3)\n",
        "sns.countplot(x=\"Embarked\", data = train, hue = \"Survived\")\n",
        "plt.title(\"Survival by Embarked\")\n",
        "plt.grid(axis =\"y\")\n",
        "\n",
        "#Age\n",
        "plt.subplot(2,3,4)\n",
        "sns.histplot(train[\"Age\"], bins = 30, kde = False) # kde = die Ausgleichskurve\n",
        "plt.title(\"Age distribution\")\n",
        "plt.grid(axis =\"y\")\n",
        "\n",
        "#Age Class\n",
        "plt.subplot(2,3,5)\n",
        "sns.boxplot(x = train[\"Pclass\"],y = train[\"Age\"])\n",
        "plt.title(\"Age distribution Class\")\n",
        "plt.grid(axis =\"y\")\n",
        "\n",
        "#Age Embarked\n",
        "plt.subplot(2,3,6)\n",
        "sns.boxplot(x = train[\"Embarked\"],y = train[\"Age\"])\n",
        "plt.title(\"Age distribution Embarked\")\n",
        "plt.grid(axis =\"y\")\n",
        "\n",
        "\n",
        "\n"
      ],
      "execution_count": 7,
      "outputs": [
        {
          "output_type": "display_data",
          "data": {
            "image/png": "[encoded data removed]",
            "text/plain": [
              "<Figure size 1440x720 with 6 Axes>"
            ]
          },
          "metadata": {
            "needs_background": "light"
          }
        }
      ]
    },
    {
      "cell_type": "code",
      "metadata": {
        "colab": {
          "base_uri": "https://localhost:8080/",
          "height": 325
        },
        "id": "iLqKDpbTUF15",
        "outputId": "fbe3452f-fab8-4785-f1c8-ea75a0d3c56d"
      },
      "source": [
        "f,ax = plt.subplots(1,3,figsize=(20,5))\n",
        "#Survived Parch\n",
        "plt.subplot(1,3,1)\n",
        "sns.countplot(x=\"Parch\", data = train, hue = \"Survived\")\n",
        "plt.title(\"Survival by Parch\")\n",
        "plt.grid(axis =\"y\")\n",
        "plt.legend(loc = \"upper right\")\n",
        "\n",
        "#Survived SibSp\n",
        "plt.subplot(1,3,2)\n",
        "sns.countplot(x=\"SibSp\", data = train, hue = \"Survived\")\n",
        "plt.title(\"Survival by SibSp\")\n",
        "plt.grid(axis =\"y\")\n",
        "plt.legend(loc = \"upper right\")\n",
        "\n",
        "#Survived Fare\n",
        "plt.subplot(1,3,3)\n",
        "sns.histplot(x=\"Fare\", data = train, hue = \"Survived\", bins = 30)\n",
        "plt.title(\"Survival by Fare\")\n",
        "plt.grid(axis =\"y\")\n",
        "\n"
      ],
      "execution_count": 8,
      "outputs": [
        {
          "output_type": "display_data",
          "data": {
            "image/png": "[encoded data removed]",
            "text/plain": [
              "<Figure size 1440x360 with 3 Axes>"
            ]
          },
          "metadata": {
            "needs_background": "light"
          }
        }
      ]
    },
    {
      "cell_type": "markdown",
      "metadata": {
        "id": "XI0VBdrHH5un"
      },
      "source": [
        "##**Datenaufbereitung**\n",
        "Als Nächstes müssen wir nun die verbleibenden Daten für die statistischen Modelle vorbereiten, da die Modelle nur Zahlenwerte verarbeiten können. Für \"Sex\" bietet sich eine binäre Einteilung ein. "
      ]
    },
    {
      "cell_type": "code",
      "metadata": {
        "id": "GlVq6nlvQyi4"
      },
      "source": [
        "#replace-Funktion mittels dictionary\n",
        "train[\"Sex\"] = train[\"Sex\"].replace({\"male\":1, \"female\":0})\n"
      ],
      "execution_count": 9,
      "outputs": []
    },
    {
      "cell_type": "markdown",
      "metadata": {
        "id": "bqa5qG4CHdye"
      },
      "source": [
        "Gleiches gilt für \"Embarked\" und \"Name\".\n",
        "\n",
        "\n"
      ]
    },
    {
      "cell_type": "code",
      "metadata": {
        "colab": {
          "base_uri": "https://localhost:8080/",
          "height": 203
        },
        "id": "dEv2S9AvQys3",
        "outputId": "0fe29c56-141f-4095-b331-5884b21aeb3c"
      },
      "source": [
        "train[\"Embarked\"].replace({\"S\":0, \"C\":1, \"Q\":2}, inplace = True)\n",
        "#Neue DF für \"Name lenght\"\n",
        "new_train = train\n",
        "new_train[\"Name\"]= train[\"Name\"].apply(lambda x: len(x))\n",
        "new_train.head()\n"
      ],
      "execution_count": 10,
      "outputs": [
        {
          "output_type": "execute_result",
          "data": {
            "text/html": [
              "<div>\n",
              "<style scoped>\n",
              "    .dataframe tbody tr th:only-of-type {\n",
              "        vertical-align: middle;\n",
              "    }\n",
              "\n",
              "    .dataframe tbody tr th {\n",
              "        vertical-align: top;\n",
              "    }\n",
              "\n",
              "    .dataframe thead th {\n",
              "        text-align: right;\n",
              "    }\n",
              "</style>\n",
              "<table border=\"1\" class=\"dataframe\">\n",
              "  <thead>\n",
              "    <tr style=\"text-align: right;\">\n",
              "      <th></th>\n",
              "      <th>PassengerId</th>\n",
              "      <th>Survived</th>\n",
              "      <th>Pclass</th>\n",
              "      <th>Name</th>\n",
              "      <th>Sex</th>\n",
              "      <th>Age</th>\n",
              "      <th>SibSp</th>\n",
              "      <th>Parch</th>\n",
              "      <th>Fare</th>\n",
              "      <th>Embarked</th>\n",
              "    </tr>\n",
              "  </thead>\n",
              "  <tbody>\n",
              "    <tr>\n",
              "      <th>0</th>\n",
              "      <td>1</td>\n",
              "      <td>0</td>\n",
              "      <td>3</td>\n",
              "      <td>23</td>\n",
              "      <td>1</td>\n",
              "      <td>22.0</td>\n",
              "      <td>1</td>\n",
              "      <td>0</td>\n",
              "      <td>7.2500</td>\n",
              "      <td>0.0</td>\n",
              "    </tr>\n",
              "    <tr>\n",
              "      <th>1</th>\n",
              "      <td>2</td>\n",
              "      <td>1</td>\n",
              "      <td>1</td>\n",
              "      <td>51</td>\n",
              "      <td>0</td>\n",
              "      <td>38.0</td>\n",
              "      <td>1</td>\n",
              "      <td>0</td>\n",
              "      <td>71.2833</td>\n",
              "      <td>1.0</td>\n",
              "    </tr>\n",
              "    <tr>\n",
              "      <th>2</th>\n",
              "      <td>3</td>\n",
              "      <td>1</td>\n",
              "      <td>3</td>\n",
              "      <td>22</td>\n",
              "      <td>0</td>\n",
              "      <td>26.0</td>\n",
              "      <td>0</td>\n",
              "      <td>0</td>\n",
              "      <td>7.9250</td>\n",
              "      <td>0.0</td>\n",
              "    </tr>\n",
              "    <tr>\n",
              "      <th>3</th>\n",
              "      <td>4</td>\n",
              "      <td>1</td>\n",
              "      <td>1</td>\n",
              "      <td>44</td>\n",
              "      <td>0</td>\n",
              "      <td>35.0</td>\n",
              "      <td>1</td>\n",
              "      <td>0</td>\n",
              "      <td>53.1000</td>\n",
              "      <td>0.0</td>\n",
              "    </tr>\n",
              "    <tr>\n",
              "      <th>4</th>\n",
              "      <td>5</td>\n",
              "      <td>0</td>\n",
              "      <td>3</td>\n",
              "      <td>24</td>\n",
              "      <td>1</td>\n",
              "      <td>35.0</td>\n",
              "      <td>0</td>\n",
              "      <td>0</td>\n",
              "      <td>8.0500</td>\n",
              "      <td>0.0</td>\n",
              "    </tr>\n",
              "  </tbody>\n",
              "</table>\n",
              "</div>"
            ],
            "text/plain": [
              "   PassengerId  Survived  Pclass  Name  ...  SibSp  Parch     Fare  Embarked\n",
              "0            1         0       3    23  ...      1      0   7.2500       0.0\n",
              "1            2         1       1    51  ...      1      0  71.2833       1.0\n",
              "2            3         1       3    22  ...      0      0   7.9250       0.0\n",
              "3            4         1       1    44  ...      1      0  53.1000       0.0\n",
              "4            5         0       3    24  ...      0      0   8.0500       0.0\n",
              "\n",
              "[5 rows x 10 columns]"
            ]
          },
          "metadata": {},
          "execution_count": 10
        }
      ]
    },
    {
      "cell_type": "markdown",
      "metadata": {
        "id": "RsZowRCG0R1v"
      },
      "source": [
        "##**Bereinigung der Daten**\n",
        "\n",
        "Als Nächstes befassen wir uns mit der Bereinigung der Daten von Ausreißern und NaN-values.\n",
        "Mit der Annahme, dass die Daten einer Normalverteilung folgen, können wir die Ausreißer mittels der Standardabweichung $\\sigma$ eliminieren. 68% aller Messerwerte liegen bei einer Abweichung von 1$\\sigma$  um den Erwartungswert. Für 2$\\sigma$ sind es 95% und bei 3$\\sigma$ sogar 99,7% der Werte.\n",
        " Wir begnügen uns in diesem Fall mit 2$\\sigma$."
      ]
    },
    {
      "cell_type": "code",
      "metadata": {
        "id": "Hm7tO03dLDkb"
      },
      "source": [
        "from collections import Counter\n",
        "\n",
        "#Findet Zeilen mit mehr als 2 Ausreißern\n",
        "def Ausreisser (df, columns):\n",
        "  #Liste mit den Indizes aller Spalten mit einem Ausreißer\n",
        "  Indices = []\n",
        "  \n",
        "  \n",
        "  for values in columns:\n",
        "    #obere und untere Grenze\n",
        "    upper = df[values].mean() + 2*df[values].std()\n",
        "    lower = df[values].mean() - 2*df[values].std()\n",
        "    #Daten mit einem Ausreißer\n",
        "    data = df[(df[values] > upper) | (df[values] < lower)].index\n",
        "\n",
        "    #Indizes der nachfolgenden Spalten werden einfach hinzugefuegt\n",
        "    Indices.extend(data)\n",
        "\n",
        "\n",
        "#Passagiere mit mehr als 2 Ausreißern gleichzeitig\n",
        "#Liste von Counter.elements() um nach Dreifach-Elementen zu suchen\n",
        "  counter = (list(Counter(Indices).elements()))\n",
        "  i = 0\n",
        "  double_indices = []\n",
        "  while (i < len(counter)-2):\n",
        "    if counter[i] == counter[i+2] :\n",
        "      double_indices.append(counter[i])\n",
        "    i+=1\n",
        "\n",
        "  return(double_indices)\n",
        "\n",
        "\n",
        " \n",
        "\n",
        "\n",
        "    "
      ],
      "execution_count": 11,
      "outputs": []
    },
    {
      "cell_type": "code",
      "metadata": {
        "colab": {
          "base_uri": "https://localhost:8080/",
          "height": 172
        },
        "id": "qs12AiT1LDnu",
        "outputId": "c4536e03-2287-4d78-8e78-73b13850f2a6"
      },
      "source": [
        "outliers = Ausreisser(new_train, [\"Age\",\"SibSp\",\"Fare\",\"Parch\"])\n",
        "\n",
        "#Passagiere mit mehr als 2 Ausreißern\n",
        "new_train.iloc[outliers]\n",
        "\n"
      ],
      "execution_count": 12,
      "outputs": [
        {
          "output_type": "execute_result",
          "data": {
            "text/html": [
              "<div>\n",
              "<style scoped>\n",
              "    .dataframe tbody tr th:only-of-type {\n",
              "        vertical-align: middle;\n",
              "    }\n",
              "\n",
              "    .dataframe tbody tr th {\n",
              "        vertical-align: top;\n",
              "    }\n",
              "\n",
              "    .dataframe thead th {\n",
              "        text-align: right;\n",
              "    }\n",
              "</style>\n",
              "<table border=\"1\" class=\"dataframe\">\n",
              "  <thead>\n",
              "    <tr style=\"text-align: right;\">\n",
              "      <th></th>\n",
              "      <th>PassengerId</th>\n",
              "      <th>Survived</th>\n",
              "      <th>Pclass</th>\n",
              "      <th>Name</th>\n",
              "      <th>Sex</th>\n",
              "      <th>Age</th>\n",
              "      <th>SibSp</th>\n",
              "      <th>Parch</th>\n",
              "      <th>Fare</th>\n",
              "      <th>Embarked</th>\n",
              "    </tr>\n",
              "  </thead>\n",
              "  <tbody>\n",
              "    <tr>\n",
              "      <th>438</th>\n",
              "      <td>439</td>\n",
              "      <td>0</td>\n",
              "      <td>1</td>\n",
              "      <td>17</td>\n",
              "      <td>1</td>\n",
              "      <td>64.0</td>\n",
              "      <td>1</td>\n",
              "      <td>4</td>\n",
              "      <td>263.0</td>\n",
              "      <td>0.0</td>\n",
              "    </tr>\n",
              "    <tr>\n",
              "      <th>27</th>\n",
              "      <td>28</td>\n",
              "      <td>0</td>\n",
              "      <td>1</td>\n",
              "      <td>30</td>\n",
              "      <td>1</td>\n",
              "      <td>19.0</td>\n",
              "      <td>3</td>\n",
              "      <td>2</td>\n",
              "      <td>263.0</td>\n",
              "      <td>0.0</td>\n",
              "    </tr>\n",
              "    <tr>\n",
              "      <th>88</th>\n",
              "      <td>89</td>\n",
              "      <td>1</td>\n",
              "      <td>1</td>\n",
              "      <td>26</td>\n",
              "      <td>0</td>\n",
              "      <td>23.0</td>\n",
              "      <td>3</td>\n",
              "      <td>2</td>\n",
              "      <td>263.0</td>\n",
              "      <td>0.0</td>\n",
              "    </tr>\n",
              "    <tr>\n",
              "      <th>341</th>\n",
              "      <td>342</td>\n",
              "      <td>1</td>\n",
              "      <td>1</td>\n",
              "      <td>30</td>\n",
              "      <td>0</td>\n",
              "      <td>24.0</td>\n",
              "      <td>3</td>\n",
              "      <td>2</td>\n",
              "      <td>263.0</td>\n",
              "      <td>0.0</td>\n",
              "    </tr>\n",
              "  </tbody>\n",
              "</table>\n",
              "</div>"
            ],
            "text/plain": [
              "     PassengerId  Survived  Pclass  Name  ...  SibSp  Parch   Fare  Embarked\n",
              "438          439         0       1    17  ...      1      4  263.0       0.0\n",
              "27            28         0       1    30  ...      3      2  263.0       0.0\n",
              "88            89         1       1    26  ...      3      2  263.0       0.0\n",
              "341          342         1       1    30  ...      3      2  263.0       0.0\n",
              "\n",
              "[4 rows x 10 columns]"
            ]
          },
          "metadata": {},
          "execution_count": 12
        }
      ]
    },
    {
      "cell_type": "code",
      "metadata": {
        "colab": {
          "base_uri": "https://localhost:8080/",
          "height": 295
        },
        "id": "cJcOhsoX0Q_z",
        "outputId": "1e8a348a-bfda-489e-a5ee-b518005bfa40"
      },
      "source": [
        "new_train[[\"Age\",\"SibSp\",\"Fare\",\"Parch\"]].describe()"
      ],
      "execution_count": 13,
      "outputs": [
        {
          "output_type": "execute_result",
          "data": {
            "text/html": [
              "<div>\n",
              "<style scoped>\n",
              "    .dataframe tbody tr th:only-of-type {\n",
              "        vertical-align: middle;\n",
              "    }\n",
              "\n",
              "    .dataframe tbody tr th {\n",
              "        vertical-align: top;\n",
              "    }\n",
              "\n",
              "    .dataframe thead th {\n",
              "        text-align: right;\n",
              "    }\n",
              "</style>\n",
              "<table border=\"1\" class=\"dataframe\">\n",
              "  <thead>\n",
              "    <tr style=\"text-align: right;\">\n",
              "      <th></th>\n",
              "      <th>Age</th>\n",
              "      <th>SibSp</th>\n",
              "      <th>Fare</th>\n",
              "      <th>Parch</th>\n",
              "    </tr>\n",
              "  </thead>\n",
              "  <tbody>\n",
              "    <tr>\n",
              "      <th>count</th>\n",
              "      <td>714.000000</td>\n",
              "      <td>891.000000</td>\n",
              "      <td>891.000000</td>\n",
              "      <td>891.000000</td>\n",
              "    </tr>\n",
              "    <tr>\n",
              "      <th>mean</th>\n",
              "      <td>29.699118</td>\n",
              "      <td>0.523008</td>\n",
              "      <td>32.204208</td>\n",
              "      <td>0.381594</td>\n",
              "    </tr>\n",
              "    <tr>\n",
              "      <th>std</th>\n",
              "      <td>14.526497</td>\n",
              "      <td>1.102743</td>\n",
              "      <td>49.693429</td>\n",
              "      <td>0.806057</td>\n",
              "    </tr>\n",
              "    <tr>\n",
              "      <th>min</th>\n",
              "      <td>0.420000</td>\n",
              "      <td>0.000000</td>\n",
              "      <td>0.000000</td>\n",
              "      <td>0.000000</td>\n",
              "    </tr>\n",
              "    <tr>\n",
              "      <th>25%</th>\n",
              "      <td>20.125000</td>\n",
              "      <td>0.000000</td>\n",
              "      <td>7.910400</td>\n",
              "      <td>0.000000</td>\n",
              "    </tr>\n",
              "    <tr>\n",
              "      <th>50%</th>\n",
              "      <td>28.000000</td>\n",
              "      <td>0.000000</td>\n",
              "      <td>14.454200</td>\n",
              "      <td>0.000000</td>\n",
              "    </tr>\n",
              "    <tr>\n",
              "      <th>75%</th>\n",
              "      <td>38.000000</td>\n",
              "      <td>1.000000</td>\n",
              "      <td>31.000000</td>\n",
              "      <td>0.000000</td>\n",
              "    </tr>\n",
              "    <tr>\n",
              "      <th>max</th>\n",
              "      <td>80.000000</td>\n",
              "      <td>8.000000</td>\n",
              "      <td>512.329200</td>\n",
              "      <td>6.000000</td>\n",
              "    </tr>\n",
              "  </tbody>\n",
              "</table>\n",
              "</div>"
            ],
            "text/plain": [
              "              Age       SibSp        Fare       Parch\n",
              "count  714.000000  891.000000  891.000000  891.000000\n",
              "mean    29.699118    0.523008   32.204208    0.381594\n",
              "std     14.526497    1.102743   49.693429    0.806057\n",
              "min      0.420000    0.000000    0.000000    0.000000\n",
              "25%     20.125000    0.000000    7.910400    0.000000\n",
              "50%     28.000000    0.000000   14.454200    0.000000\n",
              "75%     38.000000    1.000000   31.000000    0.000000\n",
              "max     80.000000    8.000000  512.329200    6.000000"
            ]
          },
          "metadata": {},
          "execution_count": 13
        }
      ]
    },
    {
      "cell_type": "markdown",
      "metadata": {
        "id": "lDbqwNqf1OhI"
      },
      "source": [
        "Wie man sehen kann sind diese Passagiere Ausreißer in 3 Kathegorien: Fare, Parch und SibSp."
      ]
    },
    {
      "cell_type": "code",
      "metadata": {
        "id": "0KqS5Tq4LDrx"
      },
      "source": [
        "#Drop Ausreisser von \"Age\",\"SibSp\",\"Fare\",\"Parch\"\n",
        "new_train.drop(outliers, axis = 0, inplace = True)"
      ],
      "execution_count": 14,
      "outputs": []
    },
    {
      "cell_type": "markdown",
      "metadata": {
        "id": "AByt8CzjncNO"
      },
      "source": [
        "##Fehlende Werte (NaN) ergänzen\n",
        "Bei fehlenden Werten funktionieren die ML-Algorithmen nicht, weshalb wir sie ergänzen/entfernen müssen."
      ]
    },
    {
      "cell_type": "code",
      "metadata": {
        "colab": {
          "base_uri": "https://localhost:8080/"
        },
        "id": "-VF0JCxWLDxt",
        "outputId": "909c39ee-cfc1-40cb-80a7-d1f44e04f786"
      },
      "source": [
        "#Anzahl der NaN-Values\n",
        "new_train.isnull().sum()"
      ],
      "execution_count": 15,
      "outputs": [
        {
          "output_type": "execute_result",
          "data": {
            "text/plain": [
              "PassengerId      0\n",
              "Survived         0\n",
              "Pclass           0\n",
              "Name             0\n",
              "Sex              0\n",
              "Age            177\n",
              "SibSp            0\n",
              "Parch            0\n",
              "Fare             0\n",
              "Embarked         2\n",
              "dtype: int64"
            ]
          },
          "metadata": {},
          "execution_count": 15
        }
      ]
    },
    {
      "cell_type": "markdown",
      "metadata": {
        "id": "FVxOXZGMqDRr"
      },
      "source": [
        "Bei 177 Werten (\"Age\") ist das Löschen der NaN-Values nicht zu empfehlen, da die Menge an Trainingsdaten erheblich schrumpfen würde.\n",
        "Eine einfache Methode ist das ersetzen der NaN-Values durch den Mittelwert mit zufälliger Abweichung im Bereich [-$\\sigma$,$\\sigma$].\n",
        "Für \"Embarked\" empfiehlt sich eher der Median, da es nur ganze Zahlen annehmen kann."
      ]
    },
    {
      "cell_type": "code",
      "metadata": {
        "id": "w1uZtRVb11_e"
      },
      "source": [
        "Age = new_train[\"Age\"]\n",
        "mean = Age.mean()\n",
        "sigma = Age.std()\n",
        "Age.fillna(np.random.randint(mean - sigma, mean + sigma ), inplace = True) \n",
        "new_train[\"Embarked\"].fillna(new_train[\"Embarked\"].median(), inplace = True)"
      ],
      "execution_count": 16,
      "outputs": []
    },
    {
      "cell_type": "code",
      "metadata": {
        "colab": {
          "base_uri": "https://localhost:8080/",
          "height": 295
        },
        "id": "2bbCyGhN9ORL",
        "outputId": "a68296ae-be62-4705-b233-52ac857a2cd5"
      },
      "source": [
        "new_train.describe()"
      ],
      "execution_count": 17,
      "outputs": [
        {
          "output_type": "execute_result",
          "data": {
            "text/html": [
              "<div>\n",
              "<style scoped>\n",
              "    .dataframe tbody tr th:only-of-type {\n",
              "        vertical-align: middle;\n",
              "    }\n",
              "\n",
              "    .dataframe tbody tr th {\n",
              "        vertical-align: top;\n",
              "    }\n",
              "\n",
              "    .dataframe thead th {\n",
              "        text-align: right;\n",
              "    }\n",
              "</style>\n",
              "<table border=\"1\" class=\"dataframe\">\n",
              "  <thead>\n",
              "    <tr style=\"text-align: right;\">\n",
              "      <th></th>\n",
              "      <th>PassengerId</th>\n",
              "      <th>Survived</th>\n",
              "      <th>Pclass</th>\n",
              "      <th>Name</th>\n",
              "      <th>Sex</th>\n",
              "      <th>Age</th>\n",
              "      <th>SibSp</th>\n",
              "      <th>Parch</th>\n",
              "      <th>Fare</th>\n",
              "      <th>Embarked</th>\n",
              "    </tr>\n",
              "  </thead>\n",
              "  <tbody>\n",
              "    <tr>\n",
              "      <th>count</th>\n",
              "      <td>887.000000</td>\n",
              "      <td>887.000000</td>\n",
              "      <td>887.000000</td>\n",
              "      <td>887.000000</td>\n",
              "      <td>887.000000</td>\n",
              "      <td>887.000000</td>\n",
              "      <td>887.000000</td>\n",
              "      <td>887.000000</td>\n",
              "      <td>887.000000</td>\n",
              "      <td>887.000000</td>\n",
              "    </tr>\n",
              "    <tr>\n",
              "      <th>mean</th>\n",
              "      <td>446.998873</td>\n",
              "      <td>0.383315</td>\n",
              "      <td>2.314543</td>\n",
              "      <td>26.970688</td>\n",
              "      <td>0.648253</td>\n",
              "      <td>27.351939</td>\n",
              "      <td>0.514092</td>\n",
              "      <td>0.372041</td>\n",
              "      <td>31.163415</td>\n",
              "      <td>0.363021</td>\n",
              "    </tr>\n",
              "    <tr>\n",
              "      <th>std</th>\n",
              "      <td>257.246373</td>\n",
              "      <td>0.486468</td>\n",
              "      <td>0.833309</td>\n",
              "      <td>9.295332</td>\n",
              "      <td>0.477785</td>\n",
              "      <td>13.787628</td>\n",
              "      <td>1.095638</td>\n",
              "      <td>0.793047</td>\n",
              "      <td>47.318277</td>\n",
              "      <td>0.636642</td>\n",
              "    </tr>\n",
              "    <tr>\n",
              "      <th>min</th>\n",
              "      <td>1.000000</td>\n",
              "      <td>0.000000</td>\n",
              "      <td>1.000000</td>\n",
              "      <td>12.000000</td>\n",
              "      <td>0.000000</td>\n",
              "      <td>0.420000</td>\n",
              "      <td>0.000000</td>\n",
              "      <td>0.000000</td>\n",
              "      <td>0.000000</td>\n",
              "      <td>0.000000</td>\n",
              "    </tr>\n",
              "    <tr>\n",
              "      <th>25%</th>\n",
              "      <td>224.500000</td>\n",
              "      <td>0.000000</td>\n",
              "      <td>2.000000</td>\n",
              "      <td>20.000000</td>\n",
              "      <td>0.000000</td>\n",
              "      <td>18.000000</td>\n",
              "      <td>0.000000</td>\n",
              "      <td>0.000000</td>\n",
              "      <td>7.895800</td>\n",
              "      <td>0.000000</td>\n",
              "    </tr>\n",
              "    <tr>\n",
              "      <th>50%</th>\n",
              "      <td>448.000000</td>\n",
              "      <td>0.000000</td>\n",
              "      <td>3.000000</td>\n",
              "      <td>25.000000</td>\n",
              "      <td>1.000000</td>\n",
              "      <td>24.000000</td>\n",
              "      <td>0.000000</td>\n",
              "      <td>0.000000</td>\n",
              "      <td>14.454200</td>\n",
              "      <td>0.000000</td>\n",
              "    </tr>\n",
              "    <tr>\n",
              "      <th>75%</th>\n",
              "      <td>669.500000</td>\n",
              "      <td>1.000000</td>\n",
              "      <td>3.000000</td>\n",
              "      <td>30.500000</td>\n",
              "      <td>1.000000</td>\n",
              "      <td>35.000000</td>\n",
              "      <td>1.000000</td>\n",
              "      <td>0.000000</td>\n",
              "      <td>30.695800</td>\n",
              "      <td>1.000000</td>\n",
              "    </tr>\n",
              "    <tr>\n",
              "      <th>max</th>\n",
              "      <td>891.000000</td>\n",
              "      <td>1.000000</td>\n",
              "      <td>3.000000</td>\n",
              "      <td>82.000000</td>\n",
              "      <td>1.000000</td>\n",
              "      <td>80.000000</td>\n",
              "      <td>8.000000</td>\n",
              "      <td>6.000000</td>\n",
              "      <td>512.329200</td>\n",
              "      <td>2.000000</td>\n",
              "    </tr>\n",
              "  </tbody>\n",
              "</table>\n",
              "</div>"
            ],
            "text/plain": [
              "       PassengerId    Survived      Pclass  ...       Parch        Fare    Embarked\n",
              "count   887.000000  887.000000  887.000000  ...  887.000000  887.000000  887.000000\n",
              "mean    446.998873    0.383315    2.314543  ...    0.372041   31.163415    0.363021\n",
              "std     257.246373    0.486468    0.833309  ...    0.793047   47.318277    0.636642\n",
              "min       1.000000    0.000000    1.000000  ...    0.000000    0.000000    0.000000\n",
              "25%     224.500000    0.000000    2.000000  ...    0.000000    7.895800    0.000000\n",
              "50%     448.000000    0.000000    3.000000  ...    0.000000   14.454200    0.000000\n",
              "75%     669.500000    1.000000    3.000000  ...    0.000000   30.695800    1.000000\n",
              "max     891.000000    1.000000    3.000000  ...    6.000000  512.329200    2.000000\n",
              "\n",
              "[8 rows x 10 columns]"
            ]
          },
          "metadata": {},
          "execution_count": 17
        }
      ]
    },
    {
      "cell_type": "markdown",
      "metadata": {
        "id": "Cb1wN9ne-RZf"
      },
      "source": [
        "Somit sind alle Werte numerisch und kann von einem ML-Modell verwendet werden."
      ]
    },
    {
      "cell_type": "markdown",
      "metadata": {
        "id": "1NJa0b3LI--d"
      },
      "source": [
        "##**Feature selection**\n",
        "\n",
        "Je mehr Attribute zur Vorhersage verwendet werden, desto anfälliger ist das Modell. Mittels der Covariant-Matrix kann man ganz gut die Korrelation der einzelnen Attribute vergleichen. Je näher die Zahl an |1|, desto stärker die Korrelation."
      ]
    },
    {
      "cell_type": "code",
      "metadata": {
        "colab": {
          "base_uri": "https://localhost:8080/",
          "height": 687
        },
        "id": "XdE9FNxKJdV-",
        "outputId": "3bf423ff-7bf8-443c-fc0f-a431d289bd56"
      },
      "source": [
        "colormap = plt.cm.RdBu\n",
        "plt.figure(figsize=(12,12))\n",
        "plt.title('Pearson Correlation of Features', y=1.05, size=15)\n",
        "sns.heatmap(new_train.astype(float).corr(),linewidths=0.1,vmax=1.0, square=True, cmap=colormap, linecolor='white', annot=True)\n",
        "plt.show()"
      ],
      "execution_count": 18,
      "outputs": [
        {
          "output_type": "display_data",
          "data": {
            "image/png": "[encoded data removed]",
            "text/plain": [
              "<Figure size 864x864 with 2 Axes>"
            ]
          },
          "metadata": {
            "needs_background": "light"
          }
        }
      ]
    },
    {
      "cell_type": "markdown",
      "metadata": {
        "id": "L6J099ykL5XX"
      },
      "source": [
        "Aus der \"Survived\"-Spalte sehen wir die stärksten Korrelationen mit \"Sex\", \"Fare\", \"Name\" und \"Pclass\"."
      ]
    },
    {
      "cell_type": "code",
      "metadata": {
        "id": "C_gsGYgMM69z"
      },
      "source": [
        "new_train.drop([\"Parch\",\"Embarked\",\"Age\", \"PassengerId\"],axis=1, inplace = True)"
      ],
      "execution_count": 19,
      "outputs": []
    },
    {
      "cell_type": "code",
      "metadata": {
        "colab": {
          "base_uri": "https://localhost:8080/",
          "height": 203
        },
        "id": "6mtdr1glOGM_",
        "outputId": "e2440f30-1a47-4eb2-fab6-8df3a721e781"
      },
      "source": [
        "new_train.head()"
      ],
      "execution_count": 20,
      "outputs": [
        {
          "output_type": "execute_result",
          "data": {
            "text/html": [
              "<div>\n",
              "<style scoped>\n",
              "    .dataframe tbody tr th:only-of-type {\n",
              "        vertical-align: middle;\n",
              "    }\n",
              "\n",
              "    .dataframe tbody tr th {\n",
              "        vertical-align: top;\n",
              "    }\n",
              "\n",
              "    .dataframe thead th {\n",
              "        text-align: right;\n",
              "    }\n",
              "</style>\n",
              "<table border=\"1\" class=\"dataframe\">\n",
              "  <thead>\n",
              "    <tr style=\"text-align: right;\">\n",
              "      <th></th>\n",
              "      <th>Survived</th>\n",
              "      <th>Pclass</th>\n",
              "      <th>Name</th>\n",
              "      <th>Sex</th>\n",
              "      <th>SibSp</th>\n",
              "      <th>Fare</th>\n",
              "    </tr>\n",
              "  </thead>\n",
              "  <tbody>\n",
              "    <tr>\n",
              "      <th>0</th>\n",
              "      <td>0</td>\n",
              "      <td>3</td>\n",
              "      <td>23</td>\n",
              "      <td>1</td>\n",
              "      <td>1</td>\n",
              "      <td>7.2500</td>\n",
              "    </tr>\n",
              "    <tr>\n",
              "      <th>1</th>\n",
              "      <td>1</td>\n",
              "      <td>1</td>\n",
              "      <td>51</td>\n",
              "      <td>0</td>\n",
              "      <td>1</td>\n",
              "      <td>71.2833</td>\n",
              "    </tr>\n",
              "    <tr>\n",
              "      <th>2</th>\n",
              "      <td>1</td>\n",
              "      <td>3</td>\n",
              "      <td>22</td>\n",
              "      <td>0</td>\n",
              "      <td>0</td>\n",
              "      <td>7.9250</td>\n",
              "    </tr>\n",
              "    <tr>\n",
              "      <th>3</th>\n",
              "      <td>1</td>\n",
              "      <td>1</td>\n",
              "      <td>44</td>\n",
              "      <td>0</td>\n",
              "      <td>1</td>\n",
              "      <td>53.1000</td>\n",
              "    </tr>\n",
              "    <tr>\n",
              "      <th>4</th>\n",
              "      <td>0</td>\n",
              "      <td>3</td>\n",
              "      <td>24</td>\n",
              "      <td>1</td>\n",
              "      <td>0</td>\n",
              "      <td>8.0500</td>\n",
              "    </tr>\n",
              "  </tbody>\n",
              "</table>\n",
              "</div>"
            ],
            "text/plain": [
              "   Survived  Pclass  Name  Sex  SibSp     Fare\n",
              "0         0       3    23    1      1   7.2500\n",
              "1         1       1    51    0      1  71.2833\n",
              "2         1       3    22    0      0   7.9250\n",
              "3         1       1    44    0      1  53.1000\n",
              "4         0       3    24    1      0   8.0500"
            ]
          },
          "metadata": {},
          "execution_count": 20
        }
      ]
    },
    {
      "cell_type": "markdown",
      "metadata": {
        "id": "y1KmMlmqOY_-"
      },
      "source": [
        "##**Vorhersagemodelle**\n",
        "Hier verwenden wir nun 5 verschiedene ML-Modelle um herrauszufinden, welches bei dieser Aufgabe am Besten abschneidet.\n",
        "\n",
        "* Logistic Regression\n",
        "* SVM\n",
        "* Decision Tree / Random Forest\n",
        "* KNN\n",
        "* Perceptron"
      ]
    },
    {
      "cell_type": "code",
      "metadata": {
        "id": "pGdsIDoJPLBt"
      },
      "source": [
        "import sklearn # Collection of machine learning algorithms\n",
        "from sklearn.linear_model import LogisticRegression, Perceptron\n",
        "from sklearn.tree import DecisionTreeClassifier\n",
        "from sklearn.svm import SVC\n",
        "from sklearn.neighbors import KNeighborsClassifier\n",
        "from sklearn.model_selection import train_test_split\n"
      ],
      "execution_count": 21,
      "outputs": []
    },
    {
      "cell_type": "code",
      "metadata": {
        "id": "mvUVTItdPL3w"
      },
      "source": [
        "#Aufteilen der Daten in test und train\n",
        "X_train = new_train.drop(\"Survived\", axis=1)\n",
        "Y_train = new_train[\"Survived\"]\n",
        "X_train, x_test, Y_train, y_test = train_test_split(X_train, Y_train, test_size=0.33, random_state=101, stratify = Y_train)\n",
        "#stratify splittet die daten so, dass das verhältnis zwischen überlebenden und toten auch gleich bleibt\n"
      ],
      "execution_count": 22,
      "outputs": []
    },
    {
      "cell_type": "markdown",
      "metadata": {
        "id": "PDRf2kUMPLtI"
      },
      "source": [
        "##Logistic Regression\n"
      ]
    },
    {
      "cell_type": "code",
      "metadata": {
        "colab": {
          "base_uri": "https://localhost:8080/"
        },
        "id": "jA-LxWOxPLg0",
        "outputId": "b1251bb7-9a97-4330-90d0-6c79267097ce"
      },
      "source": [
        "logreg = LogisticRegression(penalty = \"l2\",solver = \"liblinear\")\n",
        "logreg.fit(X_train, Y_train)\n",
        "logreg_pred = logreg.predict(x_test)\n",
        "print(\"Die Genauigkeit beträgt {}%\".format(round(logreg.score(x_test, y_test) * 100, 2)))"
      ],
      "execution_count": 23,
      "outputs": [
        {
          "output_type": "stream",
          "name": "stdout",
          "text": [
            "Die Genauigkeit beträgt 79.86%\n"
          ]
        }
      ]
    },
    {
      "cell_type": "markdown",
      "metadata": {
        "id": "zmS74QJBSGrC"
      },
      "source": [
        "##Support Vector Machines (SVM)"
      ]
    },
    {
      "cell_type": "code",
      "metadata": {
        "colab": {
          "base_uri": "https://localhost:8080/"
        },
        "id": "G3LJtyLBSGOK",
        "outputId": "f9fa005c-7d7b-4567-fae0-2135bd14c28f"
      },
      "source": [
        "svc=SVC(gamma = \"auto\")  #Werte nicht normiert --> gamma = \"auto\"\n",
        "svc.fit(X_train, Y_train)\n",
        "Y_pred2 = svc.predict(x_test)\n",
        "print(\"Die Genauigkeit beträgt {}%\".format(round(svc.score(x_test, y_test) * 100, 2)))"
      ],
      "execution_count": 24,
      "outputs": [
        {
          "output_type": "stream",
          "name": "stdout",
          "text": [
            "Die Genauigkeit beträgt 68.94%\n"
          ]
        }
      ]
    },
    {
      "cell_type": "markdown",
      "metadata": {
        "id": "0OLDNsGPSF67"
      },
      "source": [
        "##Decision Tree"
      ]
    },
    {
      "cell_type": "code",
      "metadata": {
        "colab": {
          "base_uri": "https://localhost:8080/"
        },
        "id": "nbP-aJ9SSG4R",
        "outputId": "5428aeed-6347-483c-a49d-2391aafd66f3"
      },
      "source": [
        "decision_tree = DecisionTreeClassifier()\n",
        "decision_tree.fit(X_train, Y_train)\n",
        "decision_tree_pred = decision_tree.predict(x_test)\n",
        "print(\"Die Genauigkeit beträgt {}%\".format(round(decision_tree.score(x_test, y_test) * 100, 2)))"
      ],
      "execution_count": 25,
      "outputs": [
        {
          "output_type": "stream",
          "name": "stdout",
          "text": [
            "Die Genauigkeit beträgt 75.43%\n"
          ]
        }
      ]
    },
    {
      "cell_type": "markdown",
      "metadata": {
        "id": "QpykiUo3E_5O"
      },
      "source": [
        "##KNN"
      ]
    },
    {
      "cell_type": "code",
      "metadata": {
        "colab": {
          "base_uri": "https://localhost:8080/"
        },
        "id": "0zRSfhDBE-d5",
        "outputId": "d0fd08a4-9e28-4bfe-ee36-9abeca92b768"
      },
      "source": [
        "knn = KNeighborsClassifier()\n",
        "knn.fit(X_train, Y_train)\n",
        "knn_pred = knn.predict(x_test)\n",
        "print(\"Die Genauigkeit beträgt {}%\".format(round(knn.score(x_test, y_test) * 100, 2)))"
      ],
      "execution_count": 26,
      "outputs": [
        {
          "output_type": "stream",
          "name": "stdout",
          "text": [
            "Die Genauigkeit beträgt 70.65%\n"
          ]
        }
      ]
    },
    {
      "cell_type": "markdown",
      "metadata": {
        "id": "4nX3N_NDSLvf"
      },
      "source": [
        "##Perceptron (single-layerd neural network)"
      ]
    },
    {
      "cell_type": "code",
      "metadata": {
        "colab": {
          "base_uri": "https://localhost:8080/"
        },
        "id": "9YHwTuMKSMUc",
        "outputId": "8f1fc34d-c683-4864-bf22-9a4f4e4b31a4"
      },
      "source": [
        "perceptron = Perceptron()\n",
        "perceptron.fit(X_train, Y_train)\n",
        "perceptron_pred = perceptron.predict(x_test)\n",
        "print(\"Die Genauigkeit beträgt {}%\".format(round(perceptron.score(x_test, y_test) * 100, 2)))"
      ],
      "execution_count": 27,
      "outputs": [
        {
          "output_type": "stream",
          "name": "stdout",
          "text": [
            "Die Genauigkeit beträgt 64.85%\n"
          ]
        }
      ]
    },
    {
      "cell_type": "markdown",
      "metadata": {
        "id": "md7n9BOZDkoX"
      },
      "source": [
        "##Fazit\n",
        "In unserem Fall erzielt die logistische Regression das beste Ergebnis.\n"
      ]
    },
    {
      "cell_type": "code",
      "metadata": {
        "colab": {
          "base_uri": "https://localhost:8080/",
          "height": 333
        },
        "id": "Ddb8DCIKAkCY",
        "outputId": "a6f98c73-9edc-49be-af0a-2c35cb8b1596"
      },
      "source": [
        "#test\n",
        "\n",
        "from sklearn.metrics import plot_roc_curve\n",
        "log_reg = plot_roc_curve(logreg, x_test, y_test)\n"
      ],
      "execution_count": 28,
      "outputs": [
        {
          "output_type": "stream",
          "name": "stderr",
          "text": [
            "/usr/local/lib/python3.7/dist-packages/sklearn/utils/deprecation.py:87: FutureWarning: Function plot_roc_curve is deprecated; Function `plot_roc_curve` is deprecated in 1.0 and will be removed in 1.2. Use one of the class methods: RocCurveDisplay.from_predictions or RocCurveDisplay.from_estimator.\n",
            "  warnings.warn(msg, category=FutureWarning)\n"
          ]
        },
        {
          "output_type": "display_data",
          "data": {
            "image/png": "[encoded data removed]",
            "text/plain": [
              "<Figure size 432x288 with 1 Axes>"
            ]
          },
          "metadata": {
            "needs_background": "light"
          }
        }
      ]
    }
  ]
}