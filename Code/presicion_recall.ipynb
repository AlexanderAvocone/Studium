{
 "cells": [
  {
   "cell_type": "code",
   "execution_count": 1,
   "metadata": {},
   "outputs": [
    {
     "ename": "NameError",
     "evalue": "name 'ytest' is not defined",
     "output_type": "error",
     "traceback": [
      "\u001b[0;31m---------------------------------------------------------------------------\u001b[0m",
      "\u001b[0;31mNameError\u001b[0m                                 Traceback (most recent call last)",
      "\u001b[1;32mUntitled-1.ipynb Cell 1'\u001b[0m in \u001b[0;36m<cell line: 6>\u001b[0;34m()\u001b[0m\n\u001b[1;32m      <a href='vscode-notebook-cell:Untitled-1.ipynb?jupyter-notebook#ch0000000untitled?line=0'>1</a>\u001b[0m \u001b[39mfrom\u001b[39;00m \u001b[39msklearn\u001b[39;00m\u001b[39m.\u001b[39;00m\u001b[39mmetrics\u001b[39;00m \u001b[39mimport\u001b[39;00m roc_curve, precision_recall_curve\n\u001b[0;32m----> <a href='vscode-notebook-cell:Untitled-1.ipynb?jupyter-notebook#ch0000000untitled?line=5'>6</a>\u001b[0m p1,r1,t1 \u001b[39m=\u001b[39m precision_recall_curve(ytest, background_prob, pos_label\u001b[39m=\u001b[39m\u001b[39m0\u001b[39m)    \u001b[39m#pos_label = 0 --> pred_prob  1 --> predict\u001b[39;00m\n\u001b[1;32m      <a href='vscode-notebook-cell:Untitled-1.ipynb?jupyter-notebook#ch0000000untitled?line=6'>7</a>\u001b[0m p2,r2,t2 \u001b[39m=\u001b[39m precision_recall_curve(ytest, signal_prob, pos_label\u001b[39m=\u001b[39m\u001b[39m0\u001b[39m)\n\u001b[1;32m      <a href='vscode-notebook-cell:Untitled-1.ipynb?jupyter-notebook#ch0000000untitled?line=8'>9</a>\u001b[0m plt\u001b[39m.\u001b[39mfigure(figsize\u001b[39m=\u001b[39m(\u001b[39m9\u001b[39m,\u001b[39m6\u001b[39m))\n",
      "\u001b[0;31mNameError\u001b[0m: name 'ytest' is not defined"
     ]
    }
   ],
   "source": [
    "from sklearn.metrics import roc_curve, precision_recall_curve\n",
    "\n",
    "\n",
    "\n",
    "\n",
    "p1,r1,t1 = precision_recall_curve(ytest, background_prob, pos_label=0)    #pos_label = 0 --> pred_prob  1 --> predict\n",
    "p2,r2,t2 = precision_recall_curve(ytest, signal_prob, pos_label=0)\n",
    "\n",
    "plt.figure(figsize=(9,6))\n",
    "plt.plot(r1, p1)\n",
    "plt.title(f\"precision-recall background (weight = {str(weight)})\", fontsize = 15)\n",
    "plt.xlabel(\"recall\",fontsize = 20)\n",
    "plt.ylabel(\"precision\", fontsize = 15)\n",
    "plt.savefig(f\"/work/aavocone/week3/presicion_recall_background_weight{str(weight)}.jpeg\")\n",
    "plt.show()\n",
    "\n",
    "plt.figure(figsize=(9,6))\n",
    "plt.plot(r2, p2)\n",
    "plt.title(f\"precision-recall  signal (weight = {str(weight)})\", fontsize = 15)\n",
    "plt.xlabel(\"recall\", fontsize = 20)\n",
    "plt.ylabel(\"precision\", fontsize = 15)\n",
    "plt.savefig(f\"/work/aavocone/week3/presicion_recall_signal_weight{str(weight)}.jpeg\")\n",
    "plt.show()"
   ]
  },
  {
   "cell_type": "code",
   "execution_count": null,
   "metadata": {},
   "outputs": [],
   "source": []
  }
 ],
 "metadata": {
  "kernelspec": {
   "display_name": "Python 3.8.13 ('Bachelor': conda)",
   "language": "python",
   "name": "python3"
  },
  "language_info": {
   "codemirror_mode": {
    "name": "ipython",
    "version": 3
   },
   "file_extension": ".py",
   "mimetype": "text/x-python",
   "name": "python",
   "nbconvert_exporter": "python",
   "pygments_lexer": "ipython3",
   "version": "3.8.13"
  },
  "orig_nbformat": 4,
  "vscode": {
   "interpreter": {
    "hash": "8fa6b6c428d539fc06232ec94d1d357953a237439554a85c30960535ca4a6246"
   }
  }
 },
 "nbformat": 4,
 "nbformat_minor": 2
}
