{
 "cells": [
  {
   "cell_type": "code",
   "execution_count": 2,
   "metadata": {},
   "outputs": [
    {
     "name": "stdout",
     "output_type": "stream",
     "text": [
      "Index(['B_sig_K_dr', 'B_sig_K_dz', 'B_sig_CleoConeCS_3_ROE',\n",
      "       'thrustAxisCosTheta', 'aplanarity', 'sphericity',\n",
      "       'harmonicMomentThrust0', 'harmonicMomentThrust1',\n",
      "       'harmonicMomentThrust2', 'harmonicMomentThrust3',\n",
      "       'harmonicMomentThrust4', 'foxWolframR1', 'foxWolframR2', 'foxWolframR3',\n",
      "       'foxWolframR4', 'signal', 'class', 'cladd'],\n",
      "      dtype='object')\n",
      "\n",
      "\n",
      "!!!!!!!! Remove the class and cladd column !!!!!!!\n",
      "Index(['B_sig_K_dr', 'B_sig_K_dz', 'B_sig_CleoConeCS_3_ROE',\n",
      "       'thrustAxisCosTheta', 'aplanarity', 'sphericity',\n",
      "       'harmonicMomentThrust0', 'harmonicMomentThrust1',\n",
      "       'harmonicMomentThrust2', 'harmonicMomentThrust3',\n",
      "       'harmonicMomentThrust4', 'foxWolframR1', 'foxWolframR2', 'foxWolframR3',\n",
      "       'foxWolframR4', 'signal'],\n",
      "      dtype='object')\n"
     ]
    }
   ],
   "source": [
    "import numpy as np\n",
    "import pandas as pd\n",
    "import xgboost as xgb\n",
    "import matplotlib.pyplot as plt\n",
    "from sklearn.model_selection import train_test_split\n",
    "from sklearn.metrics import roc_curve, roc_auc_score\n",
    "import functions as fc\n",
    "\n",
    "\n",
    "\n",
    "df = fc.load_parquet(\"/ceph/aavocone/Datasets/3_large.parquet\")\n",
    "\n",
    "df.drop([\"class\",\"cladd\"], axis=1, inplace=True)\n",
    "print(df.columns)\n"
   ]
  },
  {
   "cell_type": "markdown",
   "metadata": {},
   "source": [
    "# large sample\n"
   ]
  },
  {
   "cell_type": "markdown",
   "metadata": {},
   "source": [
    "## load model and get prediction"
   ]
  },
  {
   "cell_type": "code",
   "execution_count": 3,
   "metadata": {},
   "outputs": [],
   "source": [
    "\n",
    "#test train split\n",
    "X = df[df.columns[:-1]]    #\n",
    "y = df[\"signal\"]            \n",
    "xtrain,xtest,ytrain,ytest = train_test_split(X, y, test_size = 0.33, stratify = y)\n",
    "xtrain,xval,ytrain,yval = train_test_split(xtrain, ytrain, test_size = 0.5)\n",
    "\n",
    "model50 = xgb.XGBClassifier()\n",
    "model50.load_model(\"/work/aavocone/models/model50.txt\")\n",
    "y50_train = model50.predict_proba(xtrain)[:,1]\n",
    "y50 = model50.predict_proba(xtest)[:,1]\n",
    "\n",
    "model100 = xgb.XGBClassifier()\n",
    "model100.load_model(\"/work/aavocone/models/model100.txt\")\n",
    "y100_train = model100.predict_proba(xtrain)[:,1]\n",
    "y100 = model100.predict_proba(xtest)[:,1]\n",
    "\n",
    "model200 = xgb.XGBClassifier()\n",
    "model200.load_model(\"/work/aavocone/models/model200.txt\")\n",
    "y200_train = model200.predict_proba(xtrain)[:,1]\n",
    "y200 = model200.predict_proba(xtest)[:,1]\n",
    "\n",
    "model500 = xgb.XGBClassifier()\n",
    "model500.load_model(\"/work/aavocone/models/model500.txt\")\n",
    "y500_train = model500.predict_proba(xtrain)[:,1]\n",
    "y500 = model500.predict_proba(xtest)[:,1]\n",
    "\n",
    "\n",
    "\n"
   ]
  },
  {
   "cell_type": "markdown",
   "metadata": {},
   "source": [
    "## get roc and auc values"
   ]
  },
  {
   "cell_type": "code",
   "execution_count": 4,
   "metadata": {},
   "outputs": [],
   "source": [
    "#n=50\n",
    "auc50 =roc_auc_score(ytest,y50)\n",
    "fp50,tp50, thresh50 = roc_curve(ytest, y50)\n",
    "#n=100\n",
    "auc100 = roc_auc_score(ytest,y100)\n",
    "fp100,tp100, thresh100 = roc_curve(ytest, y100)\n",
    "#n=200\n",
    "auc200 =roc_auc_score(ytest,y200)\n",
    "fp200,tp200, thresh200 = roc_curve(ytest, y200)\n",
    "#n=500\n",
    "auc500 =roc_auc_score(ytest,y500)\n",
    "fp500,tp500, thresh500 = roc_curve(ytest, y500)"
   ]
  },
  {
   "cell_type": "markdown",
   "metadata": {},
   "source": [
    "## histogram"
   ]
  },
  {
   "cell_type": "code",
   "execution_count": null,
   "metadata": {},
   "outputs": [
    {
     "data": {
      "image/png": "[encoded data removed]",
      "text/plain": [
       "<Figure size 648x432 with 1 Axes>"
      ]
     },
     "metadata": {
      "needs_background": "light"
     },
     "output_type": "display_data"
    }
   ],
   "source": [
    "\n",
    "\n",
    "plt.figure(figsize=(9,6))\n",
    "plt.plot(fp50, tp50, label = f\"n = 50, auc = {auc50:3f}\", color =\"orange\")\n",
    "plt.plot(fp100, tp100, label = f\"n = 100, auc = {auc100:3f}\", color =\"darkorange\")\n",
    "plt.plot(fp200, tp200, label = f\"n = 200, auc = {auc200:3f}\", color =\"red\")\n",
    "plt.plot(fp500, tp500, label = f\"n = 500, auc = {auc500:3f}\", color =\"darkred\")\n",
    "plt.title(f\"ROC curve comparison\", fontsize = 15)\n",
    "plt.xlabel(\"FP rate \", fontsize = 20)\n",
    "plt.ylabel(\"TP rate \", fontsize = 15)\n",
    "plt.legend()\n",
    "plt.savefig(f\"/work/aavocone/week4/large_ROC_comparison.jpeg\")\n",
    "plt.show()\n"
   ]
  },
  {
   "cell_type": "code",
   "execution_count": null,
   "metadata": {},
   "outputs": [
    {
     "name": "stderr",
     "output_type": "stream",
     "text": [
      "/work/aavocone/anaconda3/envs/Bachelor/lib/python3.8/site-packages/xgboost/compat.py:36: FutureWarning: pandas.Int64Index is deprecated and will be removed from pandas in a future version. Use pandas.Index with the appropriate dtype instead.\n",
      "  from pandas import MultiIndex, Int64Index\n"
     ]
    },
    {
     "ename": "NameError",
     "evalue": "name 'np' is not defined",
     "output_type": "error",
     "traceback": [
      "\u001b[0;31m---------------------------------------------------------------------------\u001b[0m",
      "\u001b[0;31mNameError\u001b[0m                                 Traceback (most recent call last)",
      "\u001b[1;32m/work/aavocone/Code/ROC_and_Stacked_hist.ipynb Cell 1'\u001b[0m in \u001b[0;36m<cell line: 2>\u001b[0;34m()\u001b[0m\n\u001b[1;32m      <a href='vscode-notebook-cell://ssh-remote%2Bportal1/work/aavocone/Code/ROC_and_Stacked_hist.ipynb#ch0000000vscode-remote?line=0'>1</a>\u001b[0m \u001b[39mfrom\u001b[39;00m \u001b[39mfunctions\u001b[39;00m \u001b[39mimport\u001b[39;00m stacked_hist\n\u001b[0;32m----> <a href='vscode-notebook-cell://ssh-remote%2Bportal1/work/aavocone/Code/ROC_and_Stacked_hist.ipynb#ch0000000vscode-remote?line=1'>2</a>\u001b[0m bins \u001b[39m=\u001b[39mnp\u001b[39m.\u001b[39mlinspace(\u001b[39m0\u001b[39m,\u001b[39m1\u001b[39m,\u001b[39m21\u001b[39m)\n\u001b[1;32m      <a href='vscode-notebook-cell://ssh-remote%2Bportal1/work/aavocone/Code/ROC_and_Stacked_hist.ipynb#ch0000000vscode-remote?line=2'>3</a>\u001b[0m stacked_hist(df,y500,ytest, binning\u001b[39m=\u001b[39mbins)\n",
      "\u001b[0;31mNameError\u001b[0m: name 'np' is not defined"
     ]
    }
   ],
   "source": [
    "\n",
    "bins =np.linspace(0,1,21)\n",
    "fc.stacked_hist(df,y500,ytest, binning=bins)"
   ]
  },
  {
   "cell_type": "code",
   "execution_count": null,
   "metadata": {},
   "outputs": [],
   "source": []
  }
 ],
 "metadata": {
  "kernelspec": {
   "display_name": "Python 3.8.13 ('Bachelor': conda)",
   "language": "python",
   "name": "python3"
  },
  "language_info": {
   "codemirror_mode": {
    "name": "ipython",
    "version": 3
   },
   "file_extension": ".py",
   "mimetype": "text/x-python",
   "name": "python",
   "nbconvert_exporter": "python",
   "pygments_lexer": "ipython3",
   "version": "3.8.13"
  },
  "orig_nbformat": 4,
  "vscode": {
   "interpreter": {
    "hash": "8fa6b6c428d539fc06232ec94d1d357953a237439554a85c30960535ca4a6246"
   }
  }
 },
 "nbformat": 4,
 "nbformat_minor": 2
}
