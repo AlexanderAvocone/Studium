{
 "cells": [
  {
   "cell_type": "code",
   "execution_count": 1,
   "metadata": {},
   "outputs": [],
   "source": [
    "import uproot\n",
    "import numpy as np\n",
    "import pandas as pd\n",
    "import pyarrow as pa\n",
    "import pyarrow.parquet as pq\n",
    "\n",
    "\n",
    "index = ['B_sig_K_dr', 'B_sig_K_dz', 'B_sig_CleoConeCS_3_ROE',\n",
    "       'thrustAxisCosTheta', 'aplanarity', 'sphericity',\n",
    "       'harmonicMomentThrust0', 'harmonicMomentThrust1',\n",
    "       'harmonicMomentThrust2', 'harmonicMomentThrust3',\n",
    "       'harmonicMomentThrust4', 'foxWolframR1', 'foxWolframR2', 'foxWolframR3',\n",
    "       'foxWolframR4','B_sig_isSignalAcceptMissingNeutrino']\n",
    "\n",
    "charged     = uproot.open(\"/ceph/aavocone/Data/kplus_v34_kshort_v34_100invfb_test_nobdtcut_16812.root:tree_Bsig;1\").arrays(index, library =\"pd\")\n",
    "mixed       = uproot.open(\"/ceph/aavocone/Data/kplus_v34_kshort_v34_100invfb_test_nobdtcut_16817.root:tree_Bsig;1\").arrays(index, library =\"pd\")\n",
    "uu          = uproot.open(\"/ceph/aavocone/Data/kplus_v34_kshort_v34_100invfb_test_nobdtcut_16802.root:tree_Bsig;1\").arrays(index, library =\"pd\")\n",
    "cc          = uproot.open(\"/ceph/aavocone/Data/kplus_v34_kshort_v34_100invfb_test_nobdtcut_16792.root:tree_Bsig;1\").arrays(index, library =\"pd\")\n",
    "dd          = uproot.open(\"/ceph/aavocone/Data/kplus_v34_kshort_v34_100invfb_test_nobdtcut_16797.root:tree_Bsig;1\").arrays(index, library =\"pd\")\n",
    "ss          = uproot.open(\"/ceph/aavocone/Data/kplus_v34_kshort_v34_100invfb_test_nobdtcut_16807.root:tree_Bsig;1\").arrays(index, library =\"pd\")\n",
    "\n",
    "\n",
    "sets =[charged,mixed,uu,cc,dd,ss]\n",
    "df = pd.concat(sets)\n",
    "df[\"signal\"]  = np.zeros(len(df))\n",
    "table = pa.Table.from_pandas(df,nthreads = 1)\n",
    "pq.write_table(table, f\"/ceph/aavocone/Datasets/background.parquet\")\n",
    "\n",
    "\n",
    "\n",
    "\n",
    "\n"
   ]
  },
  {
   "cell_type": "code",
   "execution_count": 2,
   "metadata": {},
   "outputs": [
    {
     "data": {
      "text/plain": [
       "Index(['B_sig_K_dr', 'B_sig_K_dz', 'B_sig_CleoConeCS_3_ROE',\n",
       "       'thrustAxisCosTheta', 'aplanarity', 'sphericity',\n",
       "       'harmonicMomentThrust0', 'harmonicMomentThrust1',\n",
       "       'harmonicMomentThrust2', 'harmonicMomentThrust3',\n",
       "       'harmonicMomentThrust4', 'foxWolframR1', 'foxWolframR2', 'foxWolframR3',\n",
       "       'foxWolframR4', 'B_sig_isSignalAcceptMissingNeutrino', 'signal'],\n",
       "      dtype='object')"
      ]
     },
     "execution_count": 2,
     "metadata": {},
     "output_type": "execute_result"
    }
   ],
   "source": [
    "df.columns"
   ]
  },
  {
   "cell_type": "code",
   "execution_count": null,
   "metadata": {},
   "outputs": [],
   "source": []
  }
 ],
 "metadata": {
  "kernelspec": {
   "display_name": "Python 3.8.13 ('Bachelor': conda)",
   "language": "python",
   "name": "python3"
  },
  "language_info": {
   "codemirror_mode": {
    "name": "ipython",
    "version": 3
   },
   "file_extension": ".py",
   "mimetype": "text/x-python",
   "name": "python",
   "nbconvert_exporter": "python",
   "pygments_lexer": "ipython3",
   "version": "3.8.13"
  },
  "orig_nbformat": 4,
  "vscode": {
   "interpreter": {
    "hash": "8fa6b6c428d539fc06232ec94d1d357953a237439554a85c30960535ca4a6246"
   }
  }
 },
 "nbformat": 4,
 "nbformat_minor": 2
}
