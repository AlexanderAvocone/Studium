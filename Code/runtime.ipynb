{
 "cells": [
  {
   "cell_type": "code",
   "execution_count": 111,
   "metadata": {},
   "outputs": [
    {
     "name": "stdout",
     "output_type": "stream",
     "text": [
      "XGBClassifier(base_score=None, booster=None, colsample_bylevel=None,\n",
      "              colsample_bynode=None, colsample_bytree=None,\n",
      "              enable_categorical=False, gamma=None, gpu_id=None,\n",
      "              importance_type=None, interaction_constraints=None,\n",
      "              learning_rate=None, max_delta_step=None, max_depth=None,\n",
      "              min_child_weight=None, missing=nan, monotone_constraints=None,\n",
      "              n_estimators=30, n_jobs=None, num_parallel_tree=None,\n",
      "              predictor=None, random_state=None, reg_alpha=None,\n",
      "              reg_lambda=None, scale_pos_weight=None, subsample=None,\n",
      "              tree_method='gpu_hist', validate_parameters=None, verbosity=0)\n"
     ]
    }
   ],
   "source": [
    "from sklearn import datasets\n",
    "import xgboost as xgb\n",
    "from sklearn.model_selection import train_test_split\n",
    "from sklearn.model_selection import cross_val_score, KFold\n",
    "import numpy as np\n",
    "import matplotlib.pyplot as plt\n",
    "import pandas as pd\n",
    "\n",
    "\n",
    "#get data\n",
    "iris = datasets.load_iris()\n",
    "\n",
    "iris_y = iris.target\n",
    "\n",
    "#different hyperparam\n",
    "xgbc1 = xgb.XGBClassifier(n_estimators = 5, verbosity = 0)\n",
    "xgbc10 = xgb.XGBClassifier(n_estimators = 30, verbosity = 0)\n",
    "xgbc_gpu = xgb.XGBClassifier(n_estimators = 30, verbosity = 0, tree_method = \"gpu_hist\")\n",
    "xgbc_100 = xgb.XGBClassifier(n_estimators = 100, verbosity = 0)\n",
    "print(xgbc_gpu)\n",
    "\n",
    " "
   ]
  },
  {
   "cell_type": "code",
   "execution_count": 112,
   "metadata": {},
   "outputs": [
    {
     "name": "stderr",
     "output_type": "stream",
     "text": [
      "/work/aavocone/anaconda3/envs/Bachelor/lib/python3.8/site-packages/xgboost/sklearn.py:1224: UserWarning: The use of label encoder in XGBClassifier is deprecated and will be removed in a future release. To remove this warning, do the following: 1) Pass option use_label_encoder=False when constructing XGBClassifier object; and 2) Encode your labels (y) as integers starting with 0, i.e. 0, 1, 2, ..., [num_class - 1].\n",
      "  warnings.warn(label_encoder_deprecation_msg, UserWarning)\n"
     ]
    },
    {
     "name": "stdout",
     "output_type": "stream",
     "text": [
      "274 ms ± 68.5 ms per loop (mean ± std. dev. of 7 runs, 10 loops each)\n",
      "1.36 s ± 173 ms per loop (mean ± std. dev. of 7 runs, 1 loop each)\n",
      "5.58 s ± 1.49 s per loop (mean ± std. dev. of 7 runs, 1 loop each)\n"
     ]
    }
   ],
   "source": [
    "#shape (150,1)\n",
    "iris_x = iris.data[:,:1]\n",
    "xtrain,xtest, ytrain,ytest = train_test_split(iris_x,iris_y, test_size = 0.15)\n",
    "time15 = %timeit -o xgbc1.fit(xtrain,ytrain)\n",
    "time130 = %timeit -o xgbc10.fit(xtrain,ytrain)\n",
    "#time1_gpu = %timeit xgbc_gpu.fit(xtrain,ytrain)\n",
    "time1_100= %timeit -o xgbc_100.fit(xtrain,ytrain)\n",
    "\n",
    "\n",
    "\n"
   ]
  },
  {
   "cell_type": "code",
   "execution_count": 113,
   "metadata": {},
   "outputs": [
    {
     "name": "stdout",
     "output_type": "stream",
     "text": [
      "407 ms ± 168 ms per loop (mean ± std. dev. of 7 runs, 10 loops each)\n",
      "1.06 s ± 65.4 ms per loop (mean ± std. dev. of 7 runs, 1 loop each)\n",
      "5.04 s ± 1.27 s per loop (mean ± std. dev. of 7 runs, 1 loop each)\n"
     ]
    }
   ],
   "source": [
    "#shape (150,2)\n",
    "iris_x = iris.data[:,:2]\n",
    "xtrain,xtest, ytrain,ytest =train_test_split(iris_x,iris_y, test_size = 0.15)\n",
    "time25 = %timeit -o xgbc1.fit(xtrain,ytrain)\n",
    "time230 = %timeit -o xgbc10.fit(xtrain,ytrain)\n",
    "#time2_gpu = %timeit xgbc_gpu.fit(xtrain,ytrain)\n",
    "time2_100 = %timeit -o xgbc_100.fit(xtrain,ytrain)"
   ]
  },
  {
   "cell_type": "code",
   "execution_count": 114,
   "metadata": {},
   "outputs": [
    {
     "name": "stdout",
     "output_type": "stream",
     "text": [
      "260 ms ± 84.4 ms per loop (mean ± std. dev. of 7 runs, 10 loops each)\n",
      "815 ms ± 76.1 ms per loop (mean ± std. dev. of 7 runs, 1 loop each)\n",
      "2.26 s ± 207 ms per loop (mean ± std. dev. of 7 runs, 1 loop each)\n"
     ]
    }
   ],
   "source": [
    "#shape (150,3)\n",
    "iris_x = iris.data[:,:3]\n",
    "xtrain,xtest, ytrain,ytest =train_test_split(iris_x,iris_y, test_size = 0.15)\n",
    "time35 = %timeit -o xgbc1.fit(xtrain,ytrain)\n",
    "time330 = %timeit -o xgbc10.fit(xtrain,ytrain)\n",
    "#time3_gpu = %timeit xgbc_gpu.fit(xtrain,ytrain)\n",
    "time3_100= %timeit -o xgbc_100.fit(xtrain,ytrain)"
   ]
  },
  {
   "cell_type": "code",
   "execution_count": 115,
   "metadata": {},
   "outputs": [
    {
     "data": {
      "text/plain": [
       "<matplotlib.legend.Legend at 0x7f459808f340>"
      ]
     },
     "execution_count": 115,
     "metadata": {},
     "output_type": "execute_result"
    },
    {
     "data": {
      "image/png": "[encoded data removed]",
      "text/plain": [
       "<Figure size 432x288 with 1 Axes>"
      ]
     },
     "metadata": {
      "needs_background": "light"
     },
     "output_type": "display_data"
    }
   ],
   "source": [
    "y1 = [sum(time15.all_runs)/len(time15.all_runs)/10, sum(time130.all_runs)/len(time130.all_runs), sum(time1_100.all_runs)/len(time1_100.all_runs)]\n",
    "y2 = [sum(time25.all_runs)/len(time25.all_runs)/10, sum(time230.all_runs)/len(time230.all_runs), sum(time2_100.all_runs)/len(time2_100.all_runs)]\n",
    "y3 = [sum(time35.all_runs)/len(time35.all_runs)/10, sum(time330.all_runs)/len(time330.all_runs), sum(time3_100.all_runs)/len(time3_100.all_runs)]\n",
    "\n",
    "\n",
    "plt.scatter([5,30,100],y1, label = \"(150,1)\", c = \"blue\", marker=\"x\")\n",
    "plt.scatter([5,30,100],y2, label = \"(150,2)\", c = \"red\", marker=\"x\")\n",
    "plt.scatter([5,30,100],y3, label = \"(150,3)\", c = \"green\", marker=\"x\")\n",
    "\n",
    "\n",
    "plt.title(\"Best and worst run time\")\n",
    "plt.xlabel(\"n_estimators\")\n",
    "plt.ylabel(\"time in ms\")\n",
    "plt.xlim([0,110])\n",
    "plt.legend()\n"
   ]
  },
  {
   "cell_type": "code",
   "execution_count": 116,
   "metadata": {},
   "outputs": [
    {
     "name": "stdout",
     "output_type": "stream",
     "text": [
      "runtime in s for different n_estimators and data size:\n"
     ]
    },
    {
     "data": {
      "text/html": [
       "<div>\n",
       "<style scoped>\n",
       "    .dataframe tbody tr th:only-of-type {\n",
       "        vertical-align: middle;\n",
       "    }\n",
       "\n",
       "    .dataframe tbody tr th {\n",
       "        vertical-align: top;\n",
       "    }\n",
       "\n",
       "    .dataframe thead th {\n",
       "        text-align: right;\n",
       "    }\n",
       "</style>\n",
       "<table border=\"1\" class=\"dataframe\">\n",
       "  <thead>\n",
       "    <tr style=\"text-align: right;\">\n",
       "      <th></th>\n",
       "      <th>n=5</th>\n",
       "      <th>n=30</th>\n",
       "      <th>n=100</th>\n",
       "    </tr>\n",
       "  </thead>\n",
       "  <tbody>\n",
       "    <tr>\n",
       "      <th>(150,1)</th>\n",
       "      <td>0.274397</td>\n",
       "      <td>1.356312</td>\n",
       "      <td>5.584503</td>\n",
       "    </tr>\n",
       "    <tr>\n",
       "      <th>(150,2)</th>\n",
       "      <td>0.407036</td>\n",
       "      <td>1.056327</td>\n",
       "      <td>5.043253</td>\n",
       "    </tr>\n",
       "    <tr>\n",
       "      <th>(150,3)</th>\n",
       "      <td>0.260006</td>\n",
       "      <td>0.815030</td>\n",
       "      <td>2.257649</td>\n",
       "    </tr>\n",
       "  </tbody>\n",
       "</table>\n",
       "</div>"
      ],
      "text/plain": [
       "              n=5      n=30     n=100\n",
       "(150,1)  0.274397  1.356312  5.584503\n",
       "(150,2)  0.407036  1.056327  5.043253\n",
       "(150,3)  0.260006  0.815030  2.257649"
      ]
     },
     "execution_count": 116,
     "metadata": {},
     "output_type": "execute_result"
    }
   ],
   "source": [
    "d = {\"n=5\": [y1[0], y2[0], y3[0]], \"n=30\": [y1[1], y2[1], y3[1]], \"n=100\": [y1[2], y2[2], y3[2]]}\n",
    "df = pd.DataFrame(d, index = pd.Index([\"(150,1)\",\"(150,2)\",\"(150,3)\"]))\n",
    "print(\"runtime in s for different n_estimators and data size:\")\n",
    "df"
   ]
  },
  {
   "cell_type": "code",
   "execution_count": null,
   "metadata": {},
   "outputs": [],
   "source": []
  }
 ],
 "metadata": {
  "interpreter": {
   "hash": "8fa6b6c428d539fc06232ec94d1d357953a237439554a85c30960535ca4a6246"
  },
  "kernelspec": {
   "display_name": "Python 3.8.13 ('Bachelor')",
   "language": "python",
   "name": "python3"
  },
  "language_info": {
   "codemirror_mode": {
    "name": "ipython",
    "version": 3
   },
   "file_extension": ".py",
   "mimetype": "text/x-python",
   "name": "python",
   "nbconvert_exporter": "python",
   "pygments_lexer": "ipython3",
   "version": "3.8.13"
  },
  "orig_nbformat": 4
 },
 "nbformat": 4,
 "nbformat_minor": 2
}
